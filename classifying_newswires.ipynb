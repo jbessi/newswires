{
 "cells": [
  {
   "cell_type": "code",
   "execution_count": 15,
   "metadata": {},
   "outputs": [],
   "source": [
    "#Loading the Reuters dataset\n",
    "#The data is stored as an array of lists of integers\n",
    "#Every list is an example of a newswire, encoded in integers, i.e. a map integers to words\n",
    "from keras.datasets import reuters\n",
    "(train_data, train_labels), (test_data, test_labels) = reuters.load_data(num_words=10000)"
   ]
  },
  {
   "cell_type": "code",
   "execution_count": 16,
   "metadata": {},
   "outputs": [],
   "source": [
    "#Decoding newswire back into text\n",
    "word_index = reuters.get_word_index()\n",
    "reverse_word_index = dict([(value, key) for (key, value) in word_index.items()])\n",
    "def decoded(x): #function for translating the newswires back into text\n",
    "    print(' '.join([reverse_word_index.get(i-3, '?') for i in train_data[x]]))"
   ]
  },
  {
   "cell_type": "code",
   "execution_count": 20,
   "metadata": {},
   "outputs": [],
   "source": [
    "#Vectorize the data\n",
    "import numpy as np\n",
    "\n",
    "def vectorize_sequences(sequences, dimension=10000):\n",
    "    results = np.zeros((len(sequences), dimension))\n",
    "    for i, sequence in enumerate(sequences):\n",
    "        results[i,sequence] = 1\n",
    "    return results\n",
    "\n",
    "x_train = vectorize_sequences(train_data)\n",
    "x_test = vectorize_sequences(test_data)"
   ]
  },
  {
   "cell_type": "code",
   "execution_count": 43,
   "metadata": {},
   "outputs": [],
   "source": [
    "#vectorize the labels\n",
    "#there are two possibilities\n",
    "#we use one-hot encoding, i.e. we embed each label as an all-zero vector with 1 in the place of the label index\n",
    "def to_one_hot(labels, dimension = 46):\n",
    "    results = np.zeros((len(labels), dimension))\n",
    "    for i, label in enumerate(labels):\n",
    "        results[i, label] = 1\n",
    "    return results\n",
    "\n",
    "one_hot_train_labels = to_one_hot(train_labels)\n",
    "one_hot_test_labels = to_one_hot(test_labels)\n",
    "\n",
    "#we could do this also with a built-in way from Keras:\n",
    "#from keras.utils.np_utils import to_categorical\n",
    "\n",
    "#one_hot_train_labels1 = to_categorical(train_labels)\n",
    "#one_hot_test_labels2 = to_categorical(test_labels)"
   ]
  },
  {
   "cell_type": "code",
   "execution_count": 45,
   "metadata": {},
   "outputs": [],
   "source": [
    "#Defining the model\n",
    "#We use 64 hidden layers, since 16 could be to limited to learn to seperate 46 different classes\n",
    "#i.e. information could get lost\n",
    "from tensorflow.keras import models\n",
    "from tensorflow.keras import layers\n",
    "\n",
    "model = models.Sequential()\n",
    "model.add(layers.Dense(64, activation='relu', input_shape=(10000,)))\n",
    "model.add(layers.Dense(64, activation='relu'))\n",
    "model.add(layers.Dense(46, activation='softmax'))\n",
    "#we end the network with a Dense layer of size 46, i.e. for each input sample we get a 46dim vector\n",
    "#each dimension will encode a different output class\n",
    "#softmax activation will lead to a output of a probability distribution\n",
    "#each dimension i of the output vector gives us the probability that the sample belongs to class i"
   ]
  },
  {
   "cell_type": "code",
   "execution_count": 46,
   "metadata": {},
   "outputs": [],
   "source": [
    "#compiling the model\n",
    "model.compile(optimizer='rmsprop', loss='categorical_crossentropy', metrics=['acc'])"
   ]
  },
  {
   "cell_type": "code",
   "execution_count": 47,
   "metadata": {},
   "outputs": [],
   "source": [
    "#setting a validation set\n",
    "x_val = x_train[:1000]\n",
    "partial_x_train = x_train[1000:]\n",
    "y_val = one_hot_train_labels[:1000]\n",
    "partial_y_train = one_hot_train_labels[1000:]"
   ]
  },
  {
   "cell_type": "code",
   "execution_count": 48,
   "metadata": {},
   "outputs": [
    {
     "name": "stdout",
     "output_type": "stream",
     "text": [
      "Train on 7982 samples, validate on 1000 samples\n",
      "Epoch 1/20\n",
      "7982/7982 [==============================] - 2s 204us/sample - loss: 2.5944 - acc: 0.5056 - val_loss: 1.7277 - val_acc: 0.6340\n",
      "Epoch 2/20\n",
      "7982/7982 [==============================] - 1s 160us/sample - loss: 1.4296 - acc: 0.6973 - val_loss: 1.3081 - val_acc: 0.7060\n",
      "Epoch 3/20\n",
      "7982/7982 [==============================] - 1s 147us/sample - loss: 1.0562 - acc: 0.7687 - val_loss: 1.1164 - val_acc: 0.7620\n",
      "Epoch 4/20\n",
      "7982/7982 [==============================] - 1s 148us/sample - loss: 0.8204 - acc: 0.8212 - val_loss: 1.0259 - val_acc: 0.7760\n",
      "Epoch 5/20\n",
      "7982/7982 [==============================] - 1s 141us/sample - loss: 0.6509 - acc: 0.8626 - val_loss: 0.9469 - val_acc: 0.7980\n",
      "Epoch 6/20\n",
      "7982/7982 [==============================] - 1s 163us/sample - loss: 0.5193 - acc: 0.8916 - val_loss: 0.9016 - val_acc: 0.8110\n",
      "Epoch 7/20\n",
      "7982/7982 [==============================] - 1s 150us/sample - loss: 0.4200 - acc: 0.9134 - val_loss: 0.8870 - val_acc: 0.8150\n",
      "Epoch 8/20\n",
      "7982/7982 [==============================] - 1s 148us/sample - loss: 0.3449 - acc: 0.9278 - val_loss: 0.9019 - val_acc: 0.8050\n",
      "Epoch 9/20\n",
      "7982/7982 [==============================] - 1s 144us/sample - loss: 0.2839 - acc: 0.9377 - val_loss: 0.9266 - val_acc: 0.8030\n",
      "Epoch 10/20\n",
      "7982/7982 [==============================] - 1s 152us/sample - loss: 0.2423 - acc: 0.9441 - val_loss: 0.8849 - val_acc: 0.8130\n",
      "Epoch 11/20\n",
      "7982/7982 [==============================] - 1s 143us/sample - loss: 0.2120 - acc: 0.9480 - val_loss: 0.8814 - val_acc: 0.8270\n",
      "Epoch 12/20\n",
      "7982/7982 [==============================] - 1s 172us/sample - loss: 0.1827 - acc: 0.9536 - val_loss: 0.9102 - val_acc: 0.8210\n",
      "Epoch 13/20\n",
      "7982/7982 [==============================] - 1s 160us/sample - loss: 0.1660 - acc: 0.9528 - val_loss: 0.9138 - val_acc: 0.8200\n",
      "Epoch 14/20\n",
      "7982/7982 [==============================] - 1s 147us/sample - loss: 0.1518 - acc: 0.9543 - val_loss: 0.9886 - val_acc: 0.8100\n",
      "Epoch 15/20\n",
      "7982/7982 [==============================] - 1s 152us/sample - loss: 0.1439 - acc: 0.9559 - val_loss: 0.9616 - val_acc: 0.8140\n",
      "Epoch 16/20\n",
      "7982/7982 [==============================] - 1s 149us/sample - loss: 0.1339 - acc: 0.9553 - val_loss: 1.0477 - val_acc: 0.8060\n",
      "Epoch 17/20\n",
      "7982/7982 [==============================] - 1s 146us/sample - loss: 0.1282 - acc: 0.9563 - val_loss: 1.0645 - val_acc: 0.8020\n",
      "Epoch 18/20\n",
      "7982/7982 [==============================] - 1s 154us/sample - loss: 0.1272 - acc: 0.9568 - val_loss: 1.0341 - val_acc: 0.8110\n",
      "Epoch 19/20\n",
      "7982/7982 [==============================] - 1s 154us/sample - loss: 0.1169 - acc: 0.9577 - val_loss: 1.0304 - val_acc: 0.8160\n",
      "Epoch 20/20\n",
      "7982/7982 [==============================] - 1s 159us/sample - loss: 0.1156 - acc: 0.9583 - val_loss: 1.0523 - val_acc: 0.8110\n"
     ]
    }
   ],
   "source": [
    "#training the model\n",
    "history = model.fit(partial_x_train, partial_y_train, epochs=20, batch_size=512, validation_data=(x_val, y_val))"
   ]
  },
  {
   "cell_type": "code",
   "execution_count": 50,
   "metadata": {},
   "outputs": [
    {
     "data": {
      "image/png": "[encoded data removed]",
      "text/plain": [
       "<Figure size 432x288 with 1 Axes>"
      ]
     },
     "metadata": {
      "needs_background": "light"
     },
     "output_type": "display_data"
    }
   ],
   "source": [
    "#plotting the training and validation loss\n",
    "import matplotlib.pyplot as plt\n",
    "\n",
    "loss = history.history['loss']\n",
    "val_loss = history.history['val_loss']\n",
    "\n",
    "epochs = range(1,len(loss)+1)\n",
    "\n",
    "plt.plot(epochs, loss, 'bo', label='Training loss')\n",
    "plt.plot(epochs, val_loss, 'b', label='Validation loss')\n",
    "plt.title('Training and validation loss')\n",
    "plt.xlabel('Epochs')\n",
    "plt.ylabel('Loss')\n",
    "\n",
    "plt.show()"
   ]
  }
 ],
 "metadata": {
  "kernelspec": {
   "display_name": "Python 3",
   "language": "python",
   "name": "python3"
  },
  "language_info": {
   "codemirror_mode": {
    "name": "ipython",
    "version": 3
   },
   "file_extension": ".py",
   "mimetype": "text/x-python",
   "name": "python",
   "nbconvert_exporter": "python",
   "pygments_lexer": "ipython3",
   "version": "3.7.0"
  }
 },
 "nbformat": 4,
 "nbformat_minor": 2
}
